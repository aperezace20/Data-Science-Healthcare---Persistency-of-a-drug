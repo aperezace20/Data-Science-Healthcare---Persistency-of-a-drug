{
 "cells": [
  {
   "cell_type": "markdown",
   "id": "eef04647",
   "metadata": {},
   "source": [
    "# <span style=\"color:red\">Beverages</span> <span style=\"color:blue\">Business in Australia</span>\n",
    "\n",
    "<img src=\"https://raw.githubusercontent.com/aperezace20/Data-Science-Retail-Forecasting/main/Week%209%3A%20Deliverables/flag-australia-truck-inscription-supply-chain-concept-cargo-transportation-logistics-254500107.jpg\" alt=\"Alt text\" width=\"400\"/>"
   ]
  },
  {
   "cell_type": "markdown",
   "id": "0a3827e7",
   "metadata": {},
   "source": [
    "<b> Problem Statement: </b>The large company who is into beverages business in Australia. They sell their products through various super-markets and also engage into heavy promotions throughout the year. Their demand is also influenced by various factors like holiday, seasonality. They needed forecast of each of products at item level every week in weekly buckets.\n",
    "\n",
    "<b> Challenges: </b>The time series data showed a range of patterns, some with trends, some seasonal, and some with neither. At the time, they were using their own software, written in-house, but it often produced forecasts that did not seem sensible. Company wanted to explore power of AI/ML based forecasting to replace their in house local solution"
   ]
  },
  {
   "cell_type": "markdown",
   "id": "ed49642a",
   "metadata": {},
   "source": [
    "<h2 style=\"background-color:white; color:red; text-align:center;\"><b>Analyzing the Beverage Business in Australia</b></h2>"
   ]
  },
  {
   "cell_type": "markdown",
   "id": "7ad580fe",
   "metadata": {},
   "source": [
    "# <font color = #800000> </font> <font color = #800000> Importing Python Modules</font>"
   ]
  },
  {
   "cell_type": "code",
   "execution_count": 1,
   "id": "999e8217",
   "metadata": {},
   "outputs": [],
   "source": [
    "import os\n",
    "import pandas as pd\n",
    "import matplotlib.pyplot as plt\n",
    "import seaborn as sns\n",
    "import plotly.graph_objs as go\n",
    "from plotly.offline import iplot\n",
    "import requests\n",
    "import io "
   ]
  },
  {
   "cell_type": "markdown",
   "id": "4e1cc98f",
   "metadata": {},
   "source": [
    "# <font color = #800000> </font> <font color = #800000> Importing a Database from GitHub</font>"
   ]
  },
  {
   "cell_type": "code",
   "execution_count": 2,
   "id": "63467639",
   "metadata": {},
   "outputs": [],
   "source": [
    "url1 = \"https://raw.githubusercontent.com/aperezace20/Data-Science-Retail-Forecasting/main/forecasting.csv\"\n",
    "download = requests.get(url1).content\n",
    "forecasting = pd.read_csv(io.StringIO(download.decode('utf-8')))"
   ]
  },
  {
   "cell_type": "markdown",
   "id": "9b3c2d18",
   "metadata": {},
   "source": [
    "# <font color = #800000> </font> <font color = #800000> Data Cleaning Best Practices</font>"
   ]
  },
  {
   "cell_type": "code",
   "execution_count": 3,
   "id": "4bbd9fb3",
   "metadata": {},
   "outputs": [
    {
     "data": {
      "text/plain": [
       "Product                object\n",
       "date                   object\n",
       "Sales                   int64\n",
       "Price Discount (%)     object\n",
       "In-Store Promo          int64\n",
       "Catalogue Promo         int64\n",
       "Store End Promo         int64\n",
       "Google_Mobility       float64\n",
       "Covid_Flag              int64\n",
       "V_DAY                   int64\n",
       "EASTER                  int64\n",
       "CHRISTMAS               int64\n",
       "dtype: object"
      ]
     },
     "execution_count": 3,
     "metadata": {},
     "output_type": "execute_result"
    }
   ],
   "source": [
    "forecasting.dtypes"
   ]
  },
  {
   "cell_type": "code",
   "execution_count": 4,
   "id": "73247a7e",
   "metadata": {},
   "outputs": [
    {
     "data": {
      "text/html": [
       "<div>\n",
       "<style scoped>\n",
       "    .dataframe tbody tr th:only-of-type {\n",
       "        vertical-align: middle;\n",
       "    }\n",
       "\n",
       "    .dataframe tbody tr th {\n",
       "        vertical-align: top;\n",
       "    }\n",
       "\n",
       "    .dataframe thead th {\n",
       "        text-align: right;\n",
       "    }\n",
       "</style>\n",
       "<table border=\"1\" class=\"dataframe\">\n",
       "  <thead>\n",
       "    <tr style=\"text-align: right;\">\n",
       "      <th></th>\n",
       "      <th>Product</th>\n",
       "      <th>date</th>\n",
       "      <th>Sales</th>\n",
       "      <th>Price Discount (%)</th>\n",
       "      <th>In-Store Promo</th>\n",
       "      <th>Catalogue Promo</th>\n",
       "      <th>Store End Promo</th>\n",
       "      <th>Google_Mobility</th>\n",
       "      <th>Covid_Flag</th>\n",
       "      <th>V_DAY</th>\n",
       "      <th>EASTER</th>\n",
       "      <th>CHRISTMAS</th>\n",
       "    </tr>\n",
       "  </thead>\n",
       "  <tbody>\n",
       "    <tr>\n",
       "      <th>0</th>\n",
       "      <td>SKU1</td>\n",
       "      <td>2/5/2017</td>\n",
       "      <td>27750</td>\n",
       "      <td>0%</td>\n",
       "      <td>0</td>\n",
       "      <td>0</td>\n",
       "      <td>0</td>\n",
       "      <td>0.0</td>\n",
       "      <td>0</td>\n",
       "      <td>0</td>\n",
       "      <td>0</td>\n",
       "      <td>0</td>\n",
       "    </tr>\n",
       "    <tr>\n",
       "      <th>1</th>\n",
       "      <td>SKU1</td>\n",
       "      <td>2/12/2017</td>\n",
       "      <td>29023</td>\n",
       "      <td>0%</td>\n",
       "      <td>1</td>\n",
       "      <td>0</td>\n",
       "      <td>1</td>\n",
       "      <td>0.0</td>\n",
       "      <td>0</td>\n",
       "      <td>1</td>\n",
       "      <td>0</td>\n",
       "      <td>0</td>\n",
       "    </tr>\n",
       "    <tr>\n",
       "      <th>2</th>\n",
       "      <td>SKU1</td>\n",
       "      <td>2/19/2017</td>\n",
       "      <td>45630</td>\n",
       "      <td>17%</td>\n",
       "      <td>0</td>\n",
       "      <td>0</td>\n",
       "      <td>0</td>\n",
       "      <td>0.0</td>\n",
       "      <td>0</td>\n",
       "      <td>0</td>\n",
       "      <td>0</td>\n",
       "      <td>0</td>\n",
       "    </tr>\n",
       "    <tr>\n",
       "      <th>3</th>\n",
       "      <td>SKU1</td>\n",
       "      <td>2/26/2017</td>\n",
       "      <td>26789</td>\n",
       "      <td>0%</td>\n",
       "      <td>1</td>\n",
       "      <td>0</td>\n",
       "      <td>1</td>\n",
       "      <td>0.0</td>\n",
       "      <td>0</td>\n",
       "      <td>0</td>\n",
       "      <td>0</td>\n",
       "      <td>0</td>\n",
       "    </tr>\n",
       "    <tr>\n",
       "      <th>4</th>\n",
       "      <td>SKU1</td>\n",
       "      <td>3/5/2017</td>\n",
       "      <td>41999</td>\n",
       "      <td>17%</td>\n",
       "      <td>0</td>\n",
       "      <td>0</td>\n",
       "      <td>0</td>\n",
       "      <td>0.0</td>\n",
       "      <td>0</td>\n",
       "      <td>0</td>\n",
       "      <td>0</td>\n",
       "      <td>0</td>\n",
       "    </tr>\n",
       "  </tbody>\n",
       "</table>\n",
       "</div>"
      ],
      "text/plain": [
       "  Product       date  Sales Price Discount (%)  In-Store Promo  \\\n",
       "0    SKU1   2/5/2017  27750                 0%               0   \n",
       "1    SKU1  2/12/2017  29023                 0%               1   \n",
       "2    SKU1  2/19/2017  45630                17%               0   \n",
       "3    SKU1  2/26/2017  26789                 0%               1   \n",
       "4    SKU1   3/5/2017  41999                17%               0   \n",
       "\n",
       "   Catalogue Promo  Store End Promo  Google_Mobility  Covid_Flag  V_DAY  \\\n",
       "0                0                0              0.0           0      0   \n",
       "1                0                1              0.0           0      1   \n",
       "2                0                0              0.0           0      0   \n",
       "3                0                1              0.0           0      0   \n",
       "4                0                0              0.0           0      0   \n",
       "\n",
       "   EASTER  CHRISTMAS  \n",
       "0       0          0  \n",
       "1       0          0  \n",
       "2       0          0  \n",
       "3       0          0  \n",
       "4       0          0  "
      ]
     },
     "execution_count": 4,
     "metadata": {},
     "output_type": "execute_result"
    }
   ],
   "source": [
    "forecasting.head()"
   ]
  },
  {
   "cell_type": "code",
   "execution_count": 5,
   "id": "d8534113",
   "metadata": {},
   "outputs": [
    {
     "data": {
      "text/html": [
       "<div>\n",
       "<style scoped>\n",
       "    .dataframe tbody tr th:only-of-type {\n",
       "        vertical-align: middle;\n",
       "    }\n",
       "\n",
       "    .dataframe tbody tr th {\n",
       "        vertical-align: top;\n",
       "    }\n",
       "\n",
       "    .dataframe thead th {\n",
       "        text-align: right;\n",
       "    }\n",
       "</style>\n",
       "<table border=\"1\" class=\"dataframe\">\n",
       "  <thead>\n",
       "    <tr style=\"text-align: right;\">\n",
       "      <th></th>\n",
       "      <th>Product</th>\n",
       "      <th>date</th>\n",
       "      <th>Sales</th>\n",
       "      <th>Price Discount (%)</th>\n",
       "      <th>In-Store Promo</th>\n",
       "      <th>Catalogue Promo</th>\n",
       "      <th>Store End Promo</th>\n",
       "      <th>Google_Mobility</th>\n",
       "      <th>Covid_Flag</th>\n",
       "      <th>V_DAY</th>\n",
       "      <th>EASTER</th>\n",
       "      <th>CHRISTMAS</th>\n",
       "    </tr>\n",
       "  </thead>\n",
       "  <tbody>\n",
       "    <tr>\n",
       "      <th>1213</th>\n",
       "      <td>SKU6</td>\n",
       "      <td>10/18/2020</td>\n",
       "      <td>96619</td>\n",
       "      <td>54%</td>\n",
       "      <td>0</td>\n",
       "      <td>1</td>\n",
       "      <td>0</td>\n",
       "      <td>-7.56</td>\n",
       "      <td>1</td>\n",
       "      <td>0</td>\n",
       "      <td>0</td>\n",
       "      <td>0</td>\n",
       "    </tr>\n",
       "    <tr>\n",
       "      <th>1214</th>\n",
       "      <td>SKU6</td>\n",
       "      <td>10/25/2020</td>\n",
       "      <td>115798</td>\n",
       "      <td>52%</td>\n",
       "      <td>0</td>\n",
       "      <td>1</td>\n",
       "      <td>0</td>\n",
       "      <td>-8.39</td>\n",
       "      <td>1</td>\n",
       "      <td>0</td>\n",
       "      <td>0</td>\n",
       "      <td>0</td>\n",
       "    </tr>\n",
       "    <tr>\n",
       "      <th>1215</th>\n",
       "      <td>SKU6</td>\n",
       "      <td>11/1/2020</td>\n",
       "      <td>152186</td>\n",
       "      <td>54%</td>\n",
       "      <td>1</td>\n",
       "      <td>0</td>\n",
       "      <td>1</td>\n",
       "      <td>-7.43</td>\n",
       "      <td>1</td>\n",
       "      <td>0</td>\n",
       "      <td>0</td>\n",
       "      <td>0</td>\n",
       "    </tr>\n",
       "    <tr>\n",
       "      <th>1216</th>\n",
       "      <td>SKU6</td>\n",
       "      <td>11/8/2020</td>\n",
       "      <td>26445</td>\n",
       "      <td>44%</td>\n",
       "      <td>1</td>\n",
       "      <td>0</td>\n",
       "      <td>1</td>\n",
       "      <td>-5.95</td>\n",
       "      <td>1</td>\n",
       "      <td>0</td>\n",
       "      <td>0</td>\n",
       "      <td>0</td>\n",
       "    </tr>\n",
       "    <tr>\n",
       "      <th>1217</th>\n",
       "      <td>SKU6</td>\n",
       "      <td>11/15/2020</td>\n",
       "      <td>26414</td>\n",
       "      <td>44%</td>\n",
       "      <td>0</td>\n",
       "      <td>0</td>\n",
       "      <td>0</td>\n",
       "      <td>-7.20</td>\n",
       "      <td>1</td>\n",
       "      <td>0</td>\n",
       "      <td>0</td>\n",
       "      <td>0</td>\n",
       "    </tr>\n",
       "  </tbody>\n",
       "</table>\n",
       "</div>"
      ],
      "text/plain": [
       "     Product        date   Sales Price Discount (%)  In-Store Promo  \\\n",
       "1213    SKU6  10/18/2020   96619                54%               0   \n",
       "1214    SKU6  10/25/2020  115798                52%               0   \n",
       "1215    SKU6   11/1/2020  152186                54%               1   \n",
       "1216    SKU6   11/8/2020   26445                44%               1   \n",
       "1217    SKU6  11/15/2020   26414                44%               0   \n",
       "\n",
       "      Catalogue Promo  Store End Promo  Google_Mobility  Covid_Flag  V_DAY  \\\n",
       "1213                1                0            -7.56           1      0   \n",
       "1214                1                0            -8.39           1      0   \n",
       "1215                0                1            -7.43           1      0   \n",
       "1216                0                1            -5.95           1      0   \n",
       "1217                0                0            -7.20           1      0   \n",
       "\n",
       "      EASTER  CHRISTMAS  \n",
       "1213       0          0  \n",
       "1214       0          0  \n",
       "1215       0          0  \n",
       "1216       0          0  \n",
       "1217       0          0  "
      ]
     },
     "execution_count": 5,
     "metadata": {},
     "output_type": "execute_result"
    }
   ],
   "source": [
    "forecasting.tail()"
   ]
  },
  {
   "cell_type": "code",
   "execution_count": 6,
   "id": "0c2e9b3e",
   "metadata": {},
   "outputs": [
    {
     "data": {
      "text/plain": [
       "(1218, 12)"
      ]
     },
     "execution_count": 6,
     "metadata": {},
     "output_type": "execute_result"
    }
   ],
   "source": [
    "forecasting.shape"
   ]
  },
  {
   "cell_type": "code",
   "execution_count": 7,
   "id": "762d3889",
   "metadata": {},
   "outputs": [
    {
     "data": {
      "text/plain": [
       "Product               0\n",
       "date                  0\n",
       "Sales                 0\n",
       "Price Discount (%)    0\n",
       "In-Store Promo        0\n",
       "Catalogue Promo       0\n",
       "Store End Promo       0\n",
       "Google_Mobility       0\n",
       "Covid_Flag            0\n",
       "V_DAY                 0\n",
       "EASTER                0\n",
       "CHRISTMAS             0\n",
       "dtype: int64"
      ]
     },
     "execution_count": 7,
     "metadata": {},
     "output_type": "execute_result"
    }
   ],
   "source": [
    "forecasting.isnull().sum()"
   ]
  },
  {
   "cell_type": "code",
   "execution_count": 8,
   "id": "95184bb2",
   "metadata": {
    "scrolled": true
   },
   "outputs": [
    {
     "data": {
      "text/plain": [
       "14616"
      ]
     },
     "execution_count": 8,
     "metadata": {},
     "output_type": "execute_result"
    }
   ],
   "source": [
    "forecasting.size"
   ]
  },
  {
   "cell_type": "markdown",
   "id": "64359f1f",
   "metadata": {},
   "source": [
    "# <font color = #800000> </font> <font color = #800000> Exploring Data through Visuals</font>"
   ]
  },
  {
   "cell_type": "code",
   "execution_count": 9,
   "id": "f0801f02",
   "metadata": {},
   "outputs": [
    {
     "name": "stdout",
     "output_type": "stream",
     "text": [
      "     Product       date   Sales Price Discount (%)  In-Store Promo  \\\n",
      "0       SKU1 2017-02-05   27750                 0%               0   \n",
      "1       SKU1 2017-02-12   29023                 0%               1   \n",
      "2       SKU1 2017-02-19   45630                17%               0   \n",
      "3       SKU1 2017-02-26   26789                 0%               1   \n",
      "4       SKU1 2017-03-05   41999                17%               0   \n",
      "...      ...        ...     ...                ...             ...   \n",
      "1213    SKU6 2020-10-18   96619                54%               0   \n",
      "1214    SKU6 2020-10-25  115798                52%               0   \n",
      "1215    SKU6 2020-11-01  152186                54%               1   \n",
      "1216    SKU6 2020-11-08   26445                44%               1   \n",
      "1217    SKU6 2020-11-15   26414                44%               0   \n",
      "\n",
      "      Catalogue Promo  Store End Promo  Google_Mobility  Covid_Flag  V_DAY  \\\n",
      "0                   0                0             0.00           0      0   \n",
      "1                   0                1             0.00           0      1   \n",
      "2                   0                0             0.00           0      0   \n",
      "3                   0                1             0.00           0      0   \n",
      "4                   0                0             0.00           0      0   \n",
      "...               ...              ...              ...         ...    ...   \n",
      "1213                1                0            -7.56           1      0   \n",
      "1214                1                0            -8.39           1      0   \n",
      "1215                0                1            -7.43           1      0   \n",
      "1216                0                1            -5.95           1      0   \n",
      "1217                0                0            -7.20           1      0   \n",
      "\n",
      "      EASTER  CHRISTMAS  month  \n",
      "0          0          0      2  \n",
      "1          0          0      2  \n",
      "2          0          0      2  \n",
      "3          0          0      2  \n",
      "4          0          0      3  \n",
      "...      ...        ...    ...  \n",
      "1213       0          0     10  \n",
      "1214       0          0     10  \n",
      "1215       0          0     11  \n",
      "1216       0          0     11  \n",
      "1217       0          0     11  \n",
      "\n",
      "[1218 rows x 13 columns]\n"
     ]
    }
   ],
   "source": [
    "forecasting['date'] = pd.to_datetime(forecasting['date'])\n",
    "\n",
    "def get_month(dt):\n",
    "    return dt.month\n",
    "\n",
    "forecasting['month'] = forecasting['date'].apply(get_month)\n",
    "\n",
    "print(forecasting)"
   ]
  },
  {
   "cell_type": "code",
   "execution_count": 10,
   "id": "a409a0c5",
   "metadata": {
    "scrolled": false
   },
   "outputs": [
    {
     "data": {
      "text/html": [
       "<div>\n",
       "<style scoped>\n",
       "    .dataframe tbody tr th:only-of-type {\n",
       "        vertical-align: middle;\n",
       "    }\n",
       "\n",
       "    .dataframe tbody tr th {\n",
       "        vertical-align: top;\n",
       "    }\n",
       "\n",
       "    .dataframe thead th {\n",
       "        text-align: right;\n",
       "    }\n",
       "</style>\n",
       "<table border=\"1\" class=\"dataframe\">\n",
       "  <thead>\n",
       "    <tr style=\"text-align: right;\">\n",
       "      <th></th>\n",
       "      <th>Product</th>\n",
       "      <th>date</th>\n",
       "      <th>Sales</th>\n",
       "      <th>Price Discount (%)</th>\n",
       "      <th>In-Store Promo</th>\n",
       "      <th>Catalogue Promo</th>\n",
       "      <th>Store End Promo</th>\n",
       "      <th>Google_Mobility</th>\n",
       "      <th>Covid_Flag</th>\n",
       "      <th>V_DAY</th>\n",
       "      <th>EASTER</th>\n",
       "      <th>CHRISTMAS</th>\n",
       "      <th>month</th>\n",
       "    </tr>\n",
       "  </thead>\n",
       "  <tbody>\n",
       "    <tr>\n",
       "      <th>0</th>\n",
       "      <td>SKU1</td>\n",
       "      <td>2017-02-05</td>\n",
       "      <td>27750</td>\n",
       "      <td>0%</td>\n",
       "      <td>0</td>\n",
       "      <td>0</td>\n",
       "      <td>0</td>\n",
       "      <td>0.0</td>\n",
       "      <td>0</td>\n",
       "      <td>0</td>\n",
       "      <td>0</td>\n",
       "      <td>0</td>\n",
       "      <td>2</td>\n",
       "    </tr>\n",
       "    <tr>\n",
       "      <th>1</th>\n",
       "      <td>SKU1</td>\n",
       "      <td>2017-02-12</td>\n",
       "      <td>29023</td>\n",
       "      <td>0%</td>\n",
       "      <td>1</td>\n",
       "      <td>0</td>\n",
       "      <td>1</td>\n",
       "      <td>0.0</td>\n",
       "      <td>0</td>\n",
       "      <td>1</td>\n",
       "      <td>0</td>\n",
       "      <td>0</td>\n",
       "      <td>2</td>\n",
       "    </tr>\n",
       "    <tr>\n",
       "      <th>2</th>\n",
       "      <td>SKU1</td>\n",
       "      <td>2017-02-19</td>\n",
       "      <td>45630</td>\n",
       "      <td>17%</td>\n",
       "      <td>0</td>\n",
       "      <td>0</td>\n",
       "      <td>0</td>\n",
       "      <td>0.0</td>\n",
       "      <td>0</td>\n",
       "      <td>0</td>\n",
       "      <td>0</td>\n",
       "      <td>0</td>\n",
       "      <td>2</td>\n",
       "    </tr>\n",
       "    <tr>\n",
       "      <th>3</th>\n",
       "      <td>SKU1</td>\n",
       "      <td>2017-02-26</td>\n",
       "      <td>26789</td>\n",
       "      <td>0%</td>\n",
       "      <td>1</td>\n",
       "      <td>0</td>\n",
       "      <td>1</td>\n",
       "      <td>0.0</td>\n",
       "      <td>0</td>\n",
       "      <td>0</td>\n",
       "      <td>0</td>\n",
       "      <td>0</td>\n",
       "      <td>2</td>\n",
       "    </tr>\n",
       "    <tr>\n",
       "      <th>4</th>\n",
       "      <td>SKU1</td>\n",
       "      <td>2017-03-05</td>\n",
       "      <td>41999</td>\n",
       "      <td>17%</td>\n",
       "      <td>0</td>\n",
       "      <td>0</td>\n",
       "      <td>0</td>\n",
       "      <td>0.0</td>\n",
       "      <td>0</td>\n",
       "      <td>0</td>\n",
       "      <td>0</td>\n",
       "      <td>0</td>\n",
       "      <td>3</td>\n",
       "    </tr>\n",
       "  </tbody>\n",
       "</table>\n",
       "</div>"
      ],
      "text/plain": [
       "  Product       date  Sales Price Discount (%)  In-Store Promo  \\\n",
       "0    SKU1 2017-02-05  27750                 0%               0   \n",
       "1    SKU1 2017-02-12  29023                 0%               1   \n",
       "2    SKU1 2017-02-19  45630                17%               0   \n",
       "3    SKU1 2017-02-26  26789                 0%               1   \n",
       "4    SKU1 2017-03-05  41999                17%               0   \n",
       "\n",
       "   Catalogue Promo  Store End Promo  Google_Mobility  Covid_Flag  V_DAY  \\\n",
       "0                0                0              0.0           0      0   \n",
       "1                0                1              0.0           0      1   \n",
       "2                0                0              0.0           0      0   \n",
       "3                0                1              0.0           0      0   \n",
       "4                0                0              0.0           0      0   \n",
       "\n",
       "   EASTER  CHRISTMAS  month  \n",
       "0       0          0      2  \n",
       "1       0          0      2  \n",
       "2       0          0      2  \n",
       "3       0          0      2  \n",
       "4       0          0      3  "
      ]
     },
     "execution_count": 10,
     "metadata": {},
     "output_type": "execute_result"
    }
   ],
   "source": [
    "forecasting.head()"
   ]
  },
  {
   "cell_type": "code",
   "execution_count": 11,
   "id": "b618969d",
   "metadata": {},
   "outputs": [
    {
     "data": {
      "text/plain": [
       "month\n",
       "1     1593297\n",
       "2     2519111\n",
       "3     2896089\n",
       "4     2703389\n",
       "5     2935247\n",
       "6     3741038\n",
       "7     3155868\n",
       "8     3368431\n",
       "9     3904996\n",
       "10    3948299\n",
       "11    3293141\n",
       "12    2840013\n",
       "Name: Sales, dtype: int64"
      ]
     },
     "execution_count": 11,
     "metadata": {},
     "output_type": "execute_result"
    }
   ],
   "source": [
    "forecasting.groupby('month')['Sales'].sum()"
   ]
  },
  {
   "cell_type": "markdown",
   "id": "969a736a",
   "metadata": {},
   "source": [
    "# <font color = maroon> Bar Graph Months & Sales "
   ]
  },
  {
   "cell_type": "code",
   "execution_count": 12,
   "id": "e6274ba1",
   "metadata": {},
   "outputs": [
    {
     "data": {
      "image/png": "[encoded data removed]",
      "text/plain": [
       "<Figure size 640x480 with 1 Axes>"
      ]
     },
     "metadata": {},
     "output_type": "display_data"
    }
   ],
   "source": [
    "months=range(1,13)\n",
    "plt.bar(months,forecasting.groupby('month')['Sales'].sum())\n",
    "plt.xticks(months)\n",
    "plt.ylabel('Sales')\n",
    "plt.xlabel('Month')\n",
    "plt.show()"
   ]
  },
  {
   "cell_type": "code",
   "execution_count": 13,
   "id": "f246cf6c",
   "metadata": {
    "scrolled": false
   },
   "outputs": [
    {
     "name": "stdout",
     "output_type": "stream",
     "text": [
      "     Product       date   Sales Price Discount (%)  In-Store Promo  \\\n",
      "0       SKU1 2017-02-05   27750                 0%               0   \n",
      "1       SKU1 2017-02-12   29023                 0%               1   \n",
      "2       SKU1 2017-02-19   45630                17%               0   \n",
      "3       SKU1 2017-02-26   26789                 0%               1   \n",
      "4       SKU1 2017-03-05   41999                17%               0   \n",
      "...      ...        ...     ...                ...             ...   \n",
      "1213    SKU6 2020-10-18   96619                54%               0   \n",
      "1214    SKU6 2020-10-25  115798                52%               0   \n",
      "1215    SKU6 2020-11-01  152186                54%               1   \n",
      "1216    SKU6 2020-11-08   26445                44%               1   \n",
      "1217    SKU6 2020-11-15   26414                44%               0   \n",
      "\n",
      "      Catalogue Promo  Store End Promo  Google_Mobility  Covid_Flag  V_DAY  \\\n",
      "0                   0                0             0.00           0      0   \n",
      "1                   0                1             0.00           0      1   \n",
      "2                   0                0             0.00           0      0   \n",
      "3                   0                1             0.00           0      0   \n",
      "4                   0                0             0.00           0      0   \n",
      "...               ...              ...              ...         ...    ...   \n",
      "1213                1                0            -7.56           1      0   \n",
      "1214                1                0            -8.39           1      0   \n",
      "1215                0                1            -7.43           1      0   \n",
      "1216                0                1            -5.95           1      0   \n",
      "1217                0                0            -7.20           1      0   \n",
      "\n",
      "      EASTER  CHRISTMAS  month  week  \n",
      "0          0          0      2     5  \n",
      "1          0          0      2     6  \n",
      "2          0          0      2     7  \n",
      "3          0          0      2     8  \n",
      "4          0          0      3     9  \n",
      "...      ...        ...    ...   ...  \n",
      "1213       0          0     10    42  \n",
      "1214       0          0     10    43  \n",
      "1215       0          0     11    44  \n",
      "1216       0          0     11    45  \n",
      "1217       0          0     11    46  \n",
      "\n",
      "[1218 rows x 14 columns]\n"
     ]
    }
   ],
   "source": [
    "forecasting['date'] = pd.to_datetime(forecasting['date'])\n",
    "\n",
    "def get_week(dt):\n",
    "    return dt.week\n",
    "\n",
    "forecasting['week'] = forecasting['date'].apply(get_week)\n",
    "\n",
    "print(forecasting)\n"
   ]
  },
  {
   "cell_type": "code",
   "execution_count": 14,
   "id": "a1daed59",
   "metadata": {
    "scrolled": true
   },
   "outputs": [
    {
     "data": {
      "text/html": [
       "<div>\n",
       "<style scoped>\n",
       "    .dataframe tbody tr th:only-of-type {\n",
       "        vertical-align: middle;\n",
       "    }\n",
       "\n",
       "    .dataframe tbody tr th {\n",
       "        vertical-align: top;\n",
       "    }\n",
       "\n",
       "    .dataframe thead th {\n",
       "        text-align: right;\n",
       "    }\n",
       "</style>\n",
       "<table border=\"1\" class=\"dataframe\">\n",
       "  <thead>\n",
       "    <tr style=\"text-align: right;\">\n",
       "      <th></th>\n",
       "      <th>Product</th>\n",
       "      <th>date</th>\n",
       "      <th>Sales</th>\n",
       "      <th>Price Discount (%)</th>\n",
       "      <th>In-Store Promo</th>\n",
       "      <th>Catalogue Promo</th>\n",
       "      <th>Store End Promo</th>\n",
       "      <th>Google_Mobility</th>\n",
       "      <th>Covid_Flag</th>\n",
       "      <th>V_DAY</th>\n",
       "      <th>EASTER</th>\n",
       "      <th>CHRISTMAS</th>\n",
       "      <th>month</th>\n",
       "      <th>week</th>\n",
       "    </tr>\n",
       "  </thead>\n",
       "  <tbody>\n",
       "    <tr>\n",
       "      <th>0</th>\n",
       "      <td>SKU1</td>\n",
       "      <td>2017-02-05</td>\n",
       "      <td>27750</td>\n",
       "      <td>0%</td>\n",
       "      <td>0</td>\n",
       "      <td>0</td>\n",
       "      <td>0</td>\n",
       "      <td>0.0</td>\n",
       "      <td>0</td>\n",
       "      <td>0</td>\n",
       "      <td>0</td>\n",
       "      <td>0</td>\n",
       "      <td>2</td>\n",
       "      <td>5</td>\n",
       "    </tr>\n",
       "    <tr>\n",
       "      <th>1</th>\n",
       "      <td>SKU1</td>\n",
       "      <td>2017-02-12</td>\n",
       "      <td>29023</td>\n",
       "      <td>0%</td>\n",
       "      <td>1</td>\n",
       "      <td>0</td>\n",
       "      <td>1</td>\n",
       "      <td>0.0</td>\n",
       "      <td>0</td>\n",
       "      <td>1</td>\n",
       "      <td>0</td>\n",
       "      <td>0</td>\n",
       "      <td>2</td>\n",
       "      <td>6</td>\n",
       "    </tr>\n",
       "    <tr>\n",
       "      <th>2</th>\n",
       "      <td>SKU1</td>\n",
       "      <td>2017-02-19</td>\n",
       "      <td>45630</td>\n",
       "      <td>17%</td>\n",
       "      <td>0</td>\n",
       "      <td>0</td>\n",
       "      <td>0</td>\n",
       "      <td>0.0</td>\n",
       "      <td>0</td>\n",
       "      <td>0</td>\n",
       "      <td>0</td>\n",
       "      <td>0</td>\n",
       "      <td>2</td>\n",
       "      <td>7</td>\n",
       "    </tr>\n",
       "    <tr>\n",
       "      <th>3</th>\n",
       "      <td>SKU1</td>\n",
       "      <td>2017-02-26</td>\n",
       "      <td>26789</td>\n",
       "      <td>0%</td>\n",
       "      <td>1</td>\n",
       "      <td>0</td>\n",
       "      <td>1</td>\n",
       "      <td>0.0</td>\n",
       "      <td>0</td>\n",
       "      <td>0</td>\n",
       "      <td>0</td>\n",
       "      <td>0</td>\n",
       "      <td>2</td>\n",
       "      <td>8</td>\n",
       "    </tr>\n",
       "    <tr>\n",
       "      <th>4</th>\n",
       "      <td>SKU1</td>\n",
       "      <td>2017-03-05</td>\n",
       "      <td>41999</td>\n",
       "      <td>17%</td>\n",
       "      <td>0</td>\n",
       "      <td>0</td>\n",
       "      <td>0</td>\n",
       "      <td>0.0</td>\n",
       "      <td>0</td>\n",
       "      <td>0</td>\n",
       "      <td>0</td>\n",
       "      <td>0</td>\n",
       "      <td>3</td>\n",
       "      <td>9</td>\n",
       "    </tr>\n",
       "  </tbody>\n",
       "</table>\n",
       "</div>"
      ],
      "text/plain": [
       "  Product       date  Sales Price Discount (%)  In-Store Promo  \\\n",
       "0    SKU1 2017-02-05  27750                 0%               0   \n",
       "1    SKU1 2017-02-12  29023                 0%               1   \n",
       "2    SKU1 2017-02-19  45630                17%               0   \n",
       "3    SKU1 2017-02-26  26789                 0%               1   \n",
       "4    SKU1 2017-03-05  41999                17%               0   \n",
       "\n",
       "   Catalogue Promo  Store End Promo  Google_Mobility  Covid_Flag  V_DAY  \\\n",
       "0                0                0              0.0           0      0   \n",
       "1                0                1              0.0           0      1   \n",
       "2                0                0              0.0           0      0   \n",
       "3                0                1              0.0           0      0   \n",
       "4                0                0              0.0           0      0   \n",
       "\n",
       "   EASTER  CHRISTMAS  month  week  \n",
       "0       0          0      2     5  \n",
       "1       0          0      2     6  \n",
       "2       0          0      2     7  \n",
       "3       0          0      2     8  \n",
       "4       0          0      3     9  "
      ]
     },
     "execution_count": 14,
     "metadata": {},
     "output_type": "execute_result"
    }
   ],
   "source": [
    "forecasting.head()"
   ]
  },
  {
   "cell_type": "code",
   "execution_count": 15,
   "id": "fc7b35f6",
   "metadata": {},
   "outputs": [
    {
     "data": {
      "text/html": [
       "<div>\n",
       "<style scoped>\n",
       "    .dataframe tbody tr th:only-of-type {\n",
       "        vertical-align: middle;\n",
       "    }\n",
       "\n",
       "    .dataframe tbody tr th {\n",
       "        vertical-align: top;\n",
       "    }\n",
       "\n",
       "    .dataframe thead th {\n",
       "        text-align: right;\n",
       "    }\n",
       "</style>\n",
       "<table border=\"1\" class=\"dataframe\">\n",
       "  <thead>\n",
       "    <tr style=\"text-align: right;\">\n",
       "      <th></th>\n",
       "      <th>Product</th>\n",
       "      <th>date</th>\n",
       "      <th>Sales</th>\n",
       "      <th>Price Discount (%)</th>\n",
       "      <th>In-Store Promo</th>\n",
       "      <th>Catalogue Promo</th>\n",
       "      <th>Store End Promo</th>\n",
       "      <th>Google_Mobility</th>\n",
       "      <th>Covid_Flag</th>\n",
       "      <th>V_DAY</th>\n",
       "      <th>EASTER</th>\n",
       "      <th>CHRISTMAS</th>\n",
       "      <th>month</th>\n",
       "      <th>week</th>\n",
       "    </tr>\n",
       "  </thead>\n",
       "  <tbody>\n",
       "    <tr>\n",
       "      <th>1213</th>\n",
       "      <td>SKU6</td>\n",
       "      <td>2020-10-18</td>\n",
       "      <td>96619</td>\n",
       "      <td>54%</td>\n",
       "      <td>0</td>\n",
       "      <td>1</td>\n",
       "      <td>0</td>\n",
       "      <td>-7.56</td>\n",
       "      <td>1</td>\n",
       "      <td>0</td>\n",
       "      <td>0</td>\n",
       "      <td>0</td>\n",
       "      <td>10</td>\n",
       "      <td>42</td>\n",
       "    </tr>\n",
       "    <tr>\n",
       "      <th>1214</th>\n",
       "      <td>SKU6</td>\n",
       "      <td>2020-10-25</td>\n",
       "      <td>115798</td>\n",
       "      <td>52%</td>\n",
       "      <td>0</td>\n",
       "      <td>1</td>\n",
       "      <td>0</td>\n",
       "      <td>-8.39</td>\n",
       "      <td>1</td>\n",
       "      <td>0</td>\n",
       "      <td>0</td>\n",
       "      <td>0</td>\n",
       "      <td>10</td>\n",
       "      <td>43</td>\n",
       "    </tr>\n",
       "    <tr>\n",
       "      <th>1215</th>\n",
       "      <td>SKU6</td>\n",
       "      <td>2020-11-01</td>\n",
       "      <td>152186</td>\n",
       "      <td>54%</td>\n",
       "      <td>1</td>\n",
       "      <td>0</td>\n",
       "      <td>1</td>\n",
       "      <td>-7.43</td>\n",
       "      <td>1</td>\n",
       "      <td>0</td>\n",
       "      <td>0</td>\n",
       "      <td>0</td>\n",
       "      <td>11</td>\n",
       "      <td>44</td>\n",
       "    </tr>\n",
       "    <tr>\n",
       "      <th>1216</th>\n",
       "      <td>SKU6</td>\n",
       "      <td>2020-11-08</td>\n",
       "      <td>26445</td>\n",
       "      <td>44%</td>\n",
       "      <td>1</td>\n",
       "      <td>0</td>\n",
       "      <td>1</td>\n",
       "      <td>-5.95</td>\n",
       "      <td>1</td>\n",
       "      <td>0</td>\n",
       "      <td>0</td>\n",
       "      <td>0</td>\n",
       "      <td>11</td>\n",
       "      <td>45</td>\n",
       "    </tr>\n",
       "    <tr>\n",
       "      <th>1217</th>\n",
       "      <td>SKU6</td>\n",
       "      <td>2020-11-15</td>\n",
       "      <td>26414</td>\n",
       "      <td>44%</td>\n",
       "      <td>0</td>\n",
       "      <td>0</td>\n",
       "      <td>0</td>\n",
       "      <td>-7.20</td>\n",
       "      <td>1</td>\n",
       "      <td>0</td>\n",
       "      <td>0</td>\n",
       "      <td>0</td>\n",
       "      <td>11</td>\n",
       "      <td>46</td>\n",
       "    </tr>\n",
       "  </tbody>\n",
       "</table>\n",
       "</div>"
      ],
      "text/plain": [
       "     Product       date   Sales Price Discount (%)  In-Store Promo  \\\n",
       "1213    SKU6 2020-10-18   96619                54%               0   \n",
       "1214    SKU6 2020-10-25  115798                52%               0   \n",
       "1215    SKU6 2020-11-01  152186                54%               1   \n",
       "1216    SKU6 2020-11-08   26445                44%               1   \n",
       "1217    SKU6 2020-11-15   26414                44%               0   \n",
       "\n",
       "      Catalogue Promo  Store End Promo  Google_Mobility  Covid_Flag  V_DAY  \\\n",
       "1213                1                0            -7.56           1      0   \n",
       "1214                1                0            -8.39           1      0   \n",
       "1215                0                1            -7.43           1      0   \n",
       "1216                0                1            -5.95           1      0   \n",
       "1217                0                0            -7.20           1      0   \n",
       "\n",
       "      EASTER  CHRISTMAS  month  week  \n",
       "1213       0          0     10    42  \n",
       "1214       0          0     10    43  \n",
       "1215       0          0     11    44  \n",
       "1216       0          0     11    45  \n",
       "1217       0          0     11    46  "
      ]
     },
     "execution_count": 15,
     "metadata": {},
     "output_type": "execute_result"
    }
   ],
   "source": [
    "forecasting.tail()"
   ]
  },
  {
   "cell_type": "code",
   "execution_count": 16,
   "id": "d467a7ab",
   "metadata": {},
   "outputs": [
    {
     "data": {
      "text/plain": [
       "week\n",
       "1      404197\n",
       "2      274017\n",
       "3      503420\n",
       "4      411663\n",
       "5      544510\n",
       "6      467530\n",
       "7      938796\n",
       "8      568275\n",
       "9      532382\n",
       "10     727695\n",
       "11     668500\n",
       "12     669007\n",
       "13     565763\n",
       "14     552748\n",
       "15     692771\n",
       "16     603542\n",
       "17     587070\n",
       "18     727625\n",
       "19     771618\n",
       "20     717736\n",
       "21     616437\n",
       "22     762434\n",
       "23    1479433\n",
       "24     497415\n",
       "25     801706\n",
       "26     716710\n",
       "27     753112\n",
       "28     621651\n",
       "29     902260\n",
       "30     464016\n",
       "31     753892\n",
       "32     527270\n",
       "33    1111139\n",
       "34     859558\n",
       "35     612421\n",
       "36     588452\n",
       "37     844061\n",
       "38    1012207\n",
       "39    1120322\n",
       "40     709936\n",
       "41     901001\n",
       "42     908310\n",
       "43    1273157\n",
       "44    1176035\n",
       "45     946712\n",
       "46     539707\n",
       "47     630687\n",
       "48     488267\n",
       "49     618055\n",
       "50     485115\n",
       "51     814636\n",
       "52     433940\n",
       "Name: Sales, dtype: int64"
      ]
     },
     "execution_count": 16,
     "metadata": {},
     "output_type": "execute_result"
    }
   ],
   "source": [
    "forecasting.groupby('week')['Sales'].sum()"
   ]
  },
  {
   "cell_type": "code",
   "execution_count": 17,
   "id": "fbea4fe3",
   "metadata": {},
   "outputs": [
    {
     "data": {
      "text/plain": [
       "1218"
      ]
     },
     "execution_count": 17,
     "metadata": {},
     "output_type": "execute_result"
    }
   ],
   "source": [
    "filter=forecasting['month']=='date'\n",
    "len(forecasting[~filter])"
   ]
  },
  {
   "cell_type": "code",
   "execution_count": 18,
   "id": "e3db9bc2",
   "metadata": {},
   "outputs": [],
   "source": [
    "forecasting['month']=forecasting['month'].astype(int)"
   ]
  },
  {
   "cell_type": "code",
   "execution_count": 19,
   "id": "85b43ae2",
   "metadata": {},
   "outputs": [
    {
     "data": {
      "text/plain": [
       "month\n",
       "1     1593297\n",
       "2     2519111\n",
       "3     2896089\n",
       "4     2703389\n",
       "5     2935247\n",
       "6     3741038\n",
       "7     3155868\n",
       "8     3368431\n",
       "9     3904996\n",
       "10    3948299\n",
       "11    3293141\n",
       "12    2840013\n",
       "Name: Sales, dtype: int64"
      ]
     },
     "execution_count": 19,
     "metadata": {},
     "output_type": "execute_result"
    }
   ],
   "source": [
    "forecasting.groupby('month')['Sales'].sum()"
   ]
  },
  {
   "cell_type": "code",
   "execution_count": 20,
   "id": "d36593a1",
   "metadata": {
    "scrolled": true
   },
   "outputs": [
    {
     "data": {
      "text/plain": [
       "month\n",
       "1     30\n",
       "2     46\n",
       "3     47\n",
       "4     45\n",
       "5     37\n",
       "6     46\n",
       "7     53\n",
       "8     49\n",
       "9     59\n",
       "10    45\n",
       "11    61\n",
       "12    57\n",
       "Name: In-Store Promo, dtype: int64"
      ]
     },
     "execution_count": 20,
     "metadata": {},
     "output_type": "execute_result"
    }
   ],
   "source": [
    "forecasting.groupby('month')['In-Store Promo'].sum()"
   ]
  },
  {
   "cell_type": "code",
   "execution_count": 21,
   "id": "697dd881",
   "metadata": {},
   "outputs": [
    {
     "data": {
      "text/plain": [
       "month\n",
       "1     17\n",
       "2     14\n",
       "3     18\n",
       "4     27\n",
       "5     19\n",
       "6     23\n",
       "7     22\n",
       "8     17\n",
       "9     24\n",
       "10    35\n",
       "11    21\n",
       "12    22\n",
       "Name: Catalogue Promo, dtype: int64"
      ]
     },
     "execution_count": 21,
     "metadata": {},
     "output_type": "execute_result"
    }
   ],
   "source": [
    "forecasting.groupby('month')['Catalogue Promo'].sum()"
   ]
  },
  {
   "cell_type": "code",
   "execution_count": 22,
   "id": "85bfc6bc",
   "metadata": {
    "scrolled": true
   },
   "outputs": [
    {
     "data": {
      "text/plain": [
       "month\n",
       "1     22\n",
       "2     38\n",
       "3     29\n",
       "4     28\n",
       "5     26\n",
       "6     44\n",
       "7     38\n",
       "8     43\n",
       "9     42\n",
       "10    41\n",
       "11    43\n",
       "12    31\n",
       "Name: Store End Promo, dtype: int64"
      ]
     },
     "execution_count": 22,
     "metadata": {},
     "output_type": "execute_result"
    }
   ],
   "source": [
    "forecasting.groupby('month')['Store End Promo'].sum()"
   ]
  },
  {
   "cell_type": "code",
   "execution_count": 23,
   "id": "cdcaa614",
   "metadata": {
    "scrolled": false
   },
   "outputs": [
    {
     "data": {
      "text/plain": [
       "week\n",
       "1      8\n",
       "2      1\n",
       "3     10\n",
       "4      3\n",
       "5     11\n",
       "6     10\n",
       "7     10\n",
       "8      7\n",
       "9      8\n",
       "10     6\n",
       "11     6\n",
       "12     5\n",
       "13     4\n",
       "14     3\n",
       "15     5\n",
       "16    11\n",
       "17     9\n",
       "18     4\n",
       "19     5\n",
       "20     5\n",
       "21    10\n",
       "22    11\n",
       "23    10\n",
       "24    10\n",
       "25    13\n",
       "26     9\n",
       "27    11\n",
       "28     8\n",
       "29     8\n",
       "30     4\n",
       "31    11\n",
       "32    11\n",
       "33    14\n",
       "34     5\n",
       "35     9\n",
       "36     3\n",
       "37    13\n",
       "38    12\n",
       "39     9\n",
       "40    10\n",
       "41    10\n",
       "42     6\n",
       "43    13\n",
       "44    13\n",
       "45    11\n",
       "46     8\n",
       "47    10\n",
       "48     8\n",
       "49     8\n",
       "50     6\n",
       "51     6\n",
       "52     4\n",
       "Name: Store End Promo, dtype: int64"
      ]
     },
     "execution_count": 23,
     "metadata": {},
     "output_type": "execute_result"
    }
   ],
   "source": [
    "forecasting.groupby('week')['Store End Promo'].sum()"
   ]
  },
  {
   "cell_type": "markdown",
   "id": "9112896e",
   "metadata": {},
   "source": [
    "# <font color = maroon> Analyzing the Effectiveness of Promotional Strategies on Sales"
   ]
  },
  {
   "cell_type": "code",
   "execution_count": 24,
   "id": "c30eb661",
   "metadata": {
    "scrolled": false
   },
   "outputs": [
    {
     "data": {
      "image/png": "[encoded data removed]",
      "text/plain": [
       "<Figure size 800x1000 with 4 Axes>"
      ]
     },
     "metadata": {},
     "output_type": "display_data"
    }
   ],
   "source": [
    "# Group the data by month and sum the promotion values for each group\n",
    "catalogue_data = forecasting.groupby('month')['Catalogue Promo'].sum()\n",
    "store_end_data = forecasting.groupby('month')['Store End Promo'].sum()\n",
    "in_store_data = forecasting.groupby('month')['In-Store Promo'].sum()\n",
    "\n",
    "# Create subplots for Sales, Catalogue Promo, Store End Promo, and In-Store Promo\n",
    "fig, (ax1, ax2, ax3, ax4) = plt.subplots(nrows=4, sharex=True, figsize=(8, 10))\n",
    "\n",
    "# Create bar plot for Sales\n",
    "ax1.bar(forecasting['month'], forecasting['Sales'], color='green', alpha=0.5)\n",
    "ax1.set_ylabel('Sales', color='green')\n",
    "\n",
    "# Create bar plot for Catalogue Promo\n",
    "ax2.bar(catalogue_data.index, catalogue_data.values, color='blue', alpha=0.5)\n",
    "ax2.set_ylabel('Catalogue Promo', color='blue')\n",
    "\n",
    "# Create bar plot for Store End Promo\n",
    "ax3.bar(store_end_data.index, store_end_data.values, color='red', alpha=0.5)\n",
    "ax3.set_ylabel('Store End Promo', color='red')\n",
    "\n",
    "# Create bar plot for In-Store Promo\n",
    "ax4.bar(in_store_data.index, in_store_data.values, color='purple', alpha=0.5)\n",
    "ax4.set_ylabel('In-Store Promo', color='purple')\n",
    "\n",
    "# Set the x-axis label and tick marks\n",
    "ax4.set_xlabel('Month')\n",
    "ax4.set_xticks(forecasting['month'])\n",
    "ax4.tick_params(axis='x', labelrotation=45)\n",
    "\n",
    "# Add grid to the plots\n",
    "ax1.grid(visible=True)\n",
    "ax2.grid(visible=True)\n",
    "ax3.grid(visible=True)\n",
    "ax4.grid(visible=True)\n",
    "\n",
    "# Adjust the layout and padding of the subplots\n",
    "plt.subplots_adjust(hspace=0.5, top=0.95, bottom=0.05, left=0.15, right=0.95)\n",
    "\n",
    "# Show the plot\n",
    "plt.show()\n"
   ]
  },
  {
   "cell_type": "markdown",
   "id": "f6b454bf",
   "metadata": {},
   "source": [
    "# <font color = maroon> Exploring Sales Trends: Exploring Maximum Sales in Months"
   ]
  },
  {
   "cell_type": "code",
   "execution_count": 25,
   "id": "0abf866b",
   "metadata": {
    "scrolled": true
   },
   "outputs": [
    {
     "name": "stdout",
     "output_type": "stream",
     "text": [
      "The maximum sales value is: 288322\n"
     ]
    }
   ],
   "source": [
    "max_sales = forecasting['Sales'].max()\n",
    "print(\"The maximum sales value is:\", max_sales)\n"
   ]
  },
  {
   "cell_type": "code",
   "execution_count": 26,
   "id": "36ec3bbe",
   "metadata": {
    "scrolled": true
   },
   "outputs": [
    {
     "name": "stdout",
     "output_type": "stream",
     "text": [
      "The maximum sales value for each month is:\n",
      " month\n",
      "1      72688\n",
      "2     195088\n",
      "3     118504\n",
      "4     119393\n",
      "5     212245\n",
      "6     288322\n",
      "7     184365\n",
      "8     236242\n",
      "9     237462\n",
      "10    241114\n",
      "11    212947\n",
      "12    258874\n",
      "Name: Sales, dtype: int64\n"
     ]
    }
   ],
   "source": [
    "max_sales_monthly = forecasting.groupby('month')['Sales'].max()\n",
    "\n",
    "print(\"The maximum sales value for each month is:\\n\", max_sales_monthly)\n"
   ]
  },
  {
   "cell_type": "markdown",
   "id": "cfba35ab",
   "metadata": {},
   "source": [
    "# <font color = maroon> Exploring Sales Trends: A Week-by-Week Analysis"
   ]
  },
  {
   "cell_type": "code",
   "execution_count": 27,
   "id": "20ab2040",
   "metadata": {},
   "outputs": [
    {
     "data": {
      "image/png": "[encoded data removed]",
      "text/plain": [
       "<Figure size 1000x500 with 1 Axes>"
      ]
     },
     "metadata": {},
     "output_type": "display_data"
    }
   ],
   "source": [
    "weeks = range(1, 53) # assuming 52 weeks in a year\n",
    "week_labels = ['W{:02d}'.format(w) for w in weeks] # create week labels\n",
    "plt.figure(figsize=(10,5)) # set figure size\n",
    "plt.bar(weeks, forecasting.groupby('week')['Sales'].sum())\n",
    "plt.xticks(weeks, week_labels, rotation='vertical', ha='center') # rotate x-axis labels\n",
    "plt.ylabel('Sales')\n",
    "plt.xlabel('Week')\n",
    "plt.tight_layout() # adjust spacing between subplots\n",
    "plt.show()\n"
   ]
  },
  {
   "cell_type": "markdown",
   "id": "a759d870",
   "metadata": {},
   "source": [
    "<b> Final Recommendation: </b>The sales data indicates that June had the highest sales, and week 23 falls within this month. This finding is consistent with the highest sales graph, which also showed a peak in June. Moreover, the graph highlights that store end promo had the highest impact on sales compared to other types of promos. In addition, the promotional activity data revealed that the highest promotional activity was also observed during the month of June, with store end promo being the most frequently used type of promotion. These findings suggest that the store end promo strategy was successful in increasing sales during this period, and further efforts could be made to optimize and refine this promotional approach. Overall, these insights can provide valuable guidance to businesses in developing effective sales and promotional strategies."
   ]
  }
 ],
 "metadata": {
  "kernelspec": {
   "display_name": "Python 3 (ipykernel)",
   "language": "python",
   "name": "python3"
  },
  "language_info": {
   "codemirror_mode": {
    "name": "ipython",
    "version": 3
   },
   "file_extension": ".py",
   "mimetype": "text/x-python",
   "name": "python",
   "nbconvert_exporter": "python",
   "pygments_lexer": "ipython3",
   "version": "3.9.13"
  }
 },
 "nbformat": 4,
 "nbformat_minor": 5
}
